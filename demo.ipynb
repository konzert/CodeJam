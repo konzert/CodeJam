{
 "cells": [
  {
   "cell_type": "code",
   "execution_count": 2,
   "metadata": {
    "scrolled": false
   },
   "outputs": [
    {
     "name": "stdout",
     "output_type": "stream",
     "text": [
      "Total Number of Parking Signs:  126360\n",
      "Number of valid signs in circle:  3068\n",
      "Counter({'green': 2114, 'orange': 954})\n"
     ]
    },
    {
     "ename": "ModuleNotFoundError",
     "evalue": "No module named 'folium'",
     "output_type": "error",
     "traceback": [
      "\u001b[1;31m---------------------------------------------------------------------------\u001b[0m",
      "\u001b[1;31mModuleNotFoundError\u001b[0m                       Traceback (most recent call last)",
      "\u001b[1;32m<ipython-input-2-5f2041aaeb02>\u001b[0m in \u001b[0;36m<module>\u001b[1;34m()\u001b[0m\n\u001b[0;32m     23\u001b[0m \u001b[0mprint\u001b[0m\u001b[1;33m(\u001b[0m\u001b[0mCounter\u001b[0m\u001b[1;33m(\u001b[0m\u001b[0mparkingSigns\u001b[0m\u001b[1;33m[\u001b[0m\u001b[1;34m'finalrescolor'\u001b[0m\u001b[1;33m]\u001b[0m\u001b[1;33m)\u001b[0m\u001b[1;33m)\u001b[0m\u001b[1;33m\u001b[0m\u001b[0m\n\u001b[0;32m     24\u001b[0m \u001b[1;33m\u001b[0m\u001b[0m\n\u001b[1;32m---> 25\u001b[1;33m \u001b[1;32mimport\u001b[0m \u001b[0mfolium\u001b[0m\u001b[1;33m\u001b[0m\u001b[0m\n\u001b[0m\u001b[0;32m     26\u001b[0m \u001b[0mget_ipython\u001b[0m\u001b[1;33m(\u001b[0m\u001b[1;33m)\u001b[0m\u001b[1;33m.\u001b[0m\u001b[0mrun_line_magic\u001b[0m\u001b[1;33m(\u001b[0m\u001b[1;34m'matplotlib'\u001b[0m\u001b[1;33m,\u001b[0m \u001b[1;34m'inline'\u001b[0m\u001b[1;33m)\u001b[0m\u001b[1;33m\u001b[0m\u001b[0m\n\u001b[0;32m     27\u001b[0m \u001b[0mmap_\u001b[0m \u001b[1;33m=\u001b[0m \u001b[0mfolium\u001b[0m\u001b[1;33m.\u001b[0m\u001b[0mMap\u001b[0m\u001b[1;33m(\u001b[0m\u001b[0mlocation\u001b[0m\u001b[1;33m=\u001b[0m\u001b[1;33m[\u001b[0m\u001b[1;36m45.5017\u001b[0m\u001b[1;33m,\u001b[0m \u001b[1;33m-\u001b[0m\u001b[1;36m73.5673\u001b[0m\u001b[1;33m]\u001b[0m\u001b[1;33m,\u001b[0m \u001b[0mzoom_start\u001b[0m\u001b[1;33m=\u001b[0m\u001b[1;36m11\u001b[0m\u001b[1;33m)\u001b[0m\u001b[1;33m\u001b[0m\u001b[0m\n",
      "\u001b[1;31mModuleNotFoundError\u001b[0m: No module named 'folium'"
     ]
    }
   ],
   "source": [
    "import numpy as np\n",
    "import pandas as pd\n",
    "from applySignRule import *\n",
    "import matplotlib.pyplot as plt\n",
    "from collections import Counter\n",
    "\n",
    "center_ = [45.470500, -73.627595]   #Center Point of the circle in which we show the results\n",
    "EPS_RADIUS = .02   #This is the radius around the center coordinate in which we show the results\n",
    "\n",
    "stTime = epochInMins() - 60*18\n",
    "stTime = 24625450  #Initial time at which you are looking for a parking spot (local epoch in minutes)\n",
    "du = 16*60   #The time duration in which you want to park (in minutes)\n",
    "\n",
    "parkingSigns = pd.read_pickle('parking_signs_processed.pkl')\n",
    "print('Total Number of Parking Signs: ',parkingSigns.shape[0])\n",
    "\n",
    "mask = np.power( np.power( parkingSigns['Latitude']-center_[0] ,2) + np.power(parkingSigns['Longitude']-center_[1], 2) , 0.5) < EPS_RADIUS\n",
    "mask = (parkingSigns['parsed'].str.len() > 0 ) & mask\n",
    "parkingSigns = parkingSigns[mask]\n",
    "print('Number of valid signs in circle: ', parkingSigns.shape[0])\n",
    "\n",
    "parkingSigns['finalrescolor'] = parkingSigns.apply(lambda x: applySign(x['parsed'], stTime, du), axis = 1)\n",
    "print(Counter(parkingSigns['finalrescolor']))\n",
    "\n",
    "import folium\n",
    "%matplotlib inline\n",
    "map_ = folium.Map(location=[45.5017, -73.5673], zoom_start=11)\n",
    "\n",
    "rescolors = ['green', 'orange', 'red']\n",
    "\n",
    "print('plotting the result...')\n",
    "for color_ in rescolors:\n",
    "    thisColorSigns = parkingSigns[parkingSigns['finalrescolor'] == color_]\n",
    "    thisColorSegments = []\n",
    "    for i in range(thisColorSigns.shape[0]):\n",
    "        row = thisColorSigns.iloc[i]\n",
    "        signal_coor = ( row['Latitude'], row['Longitude'] )\n",
    "        line = [(row['segmentX1'], row['segmentY1']), (row['segmentX2'], row['segmentY2']  )]\n",
    "               \n",
    "        folium.PolyLine( line , color=color_, weight=2.5, opacity=1).add_to(map_)\n",
    "#map_"
   ]
  },
  {
   "cell_type": "code",
   "execution_count": null,
   "metadata": {
    "collapsed": true
   },
   "outputs": [],
   "source": []
  }
 ],
 "metadata": {
  "kernelspec": {
   "display_name": "Python 3",
   "language": "python",
   "name": "python3"
  },
  "language_info": {
   "codemirror_mode": {
    "name": "ipython",
    "version": 3
   },
   "file_extension": ".py",
   "mimetype": "text/x-python",
   "name": "python",
   "nbconvert_exporter": "python",
   "pygments_lexer": "ipython3",
   "version": "3.6.5"
  }
 },
 "nbformat": 4,
 "nbformat_minor": 1
}
